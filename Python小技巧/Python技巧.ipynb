{
 "cells": [
  {
   "cell_type": "markdown",
   "metadata": {},
   "source": [
    "# Python技巧\n",
    "\n",
    "## 1 嵌套循环中的while/for-else\n",
    "\n",
    "### 1.1 基本语法规则\n",
    "\n",
    "对于while/for循环，可以使用`else`语句在循环正常结束的时候退出；如果循环里执行了break，则直接退出循环，不执行else语句。（代码块1.1）\n",
    "\n",
    "### 1.2 嵌套循环中的应用\n",
    "\n",
    "#### 1.2.1 不同寻常的逻辑\n",
    "\n",
    "这是一个看起来很脑残的东西isn't it？特别是当你发现它的这个else只有在每一次循环都正常执行才执行else，但是人家if-else是在不满足条件的时候才会执行。这个“否则”的概念就让这个逻辑变得很奇怪。\n",
    "\n",
    "但是实际上这个else并不是对本层循环说的，它实际上是对上一层循环说的：对于一个达到目的就停止循环的内层来说，如果没有达到目的，就执行else。\n",
    "\n",
    "也就是说它的逻辑是：达到目的就停止循环，否则就继续循环（else里要包含continue）。区别于一般的满足条件就继续循环的逻辑。\n",
    "\n",
    "### 1.2.2 适合应用的情形\n",
    "\n",
    "在这个基础上，它可以用于一个情形（代码块2.2）：\n",
    "\n",
    "- 当你在内层循环达到目的时，内层循环和外层循环同时退出；\n",
    "- 当你在内层循环结束后仍未达到目的，就继续循环。\n",
    "\n",
    "这个目的可以是：搜索"
   ]
  },
  {
   "cell_type": "code",
   "execution_count": 4,
   "metadata": {},
   "outputs": [
    {
     "name": "stdout",
     "output_type": "stream",
     "text": [
      "flag is 6\n",
      "i is 4\n",
      "Break!\n"
     ]
    }
   ],
   "source": [
    "# Block 1.1\n",
    "\n",
    "# 正常退出的情况\n",
    "flag = 0\n",
    "\n",
    "while flag <= 5:\n",
    "    flag += 1\n",
    "    continue\n",
    "else:\n",
    "    print(\"flag is\", flag)\n",
    "    \n",
    "for i in range(5):\n",
    "    continue\n",
    "else:\n",
    "    print(\"i is\", i)\n",
    "    \n",
    "# 如果有break\n",
    "\n",
    "flag = 0\n",
    "\n",
    "while flag <= 5:\n",
    "    flag += 1\n",
    "    if flag >= 3:\n",
    "        print(\"Break!\")\n",
    "        break\n",
    "    continue\n",
    "else:\n",
    "    print(\"flag is\", flag)\n"
   ]
  },
  {
   "cell_type": "code",
   "execution_count": null,
   "metadata": {},
   "outputs": [],
   "source": [
    "import random\n",
    "\n",
    "\n",
    "quit = 0\n",
    "\n",
    "for i in range(6): \n",
    "    for j in range(3):\n",
    "        # 取随机数\n",
    "        quit = random.random()\n",
    "        print(\"quit = \", quit)\n",
    "        \n",
    "        # 判断是否退出\n",
    "        if (quit >= 0.5) & (quit <= 0.6):\n",
    "            print(\"broken inside\")\n",
    "            break\n",
    "        \n",
    "    else:\n",
    "        # 重置\n",
    "        quit = 0\n",
    "        # 继续运行\n",
    "        print(\"continue\")\n",
    "        continue\n",
    "    print(\"broken outside\")\n",
    "    break\n"
   ]
  }
 ],
 "metadata": {
  "kernelspec": {
   "display_name": "pypro",
   "language": "python",
   "name": "python3"
  },
  "language_info": {
   "codemirror_mode": {
    "name": "ipython",
    "version": 3
   },
   "file_extension": ".py",
   "mimetype": "text/x-python",
   "name": "python",
   "nbconvert_exporter": "python",
   "pygments_lexer": "ipython3",
   "version": "3.12.2"
  }
 },
 "nbformat": 4,
 "nbformat_minor": 2
}
