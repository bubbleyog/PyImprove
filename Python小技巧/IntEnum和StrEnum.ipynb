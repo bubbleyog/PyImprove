{
 "cells": [
  {
   "cell_type": "markdown",
   "metadata": {},
   "source": [
    "# 1 IntEnum\n",
    "\n",
    "IntEnum和普通的枚举的区别在于，IntEnum是一个完全由int的子类型构成的枚举类型，这使得其中所有的元素都被视为一个int对象。\n",
    "\n",
    "对于IntEnum中的元素的调用，一方面可以按照一般的枚举方式来get下一个值，另一方面亦可以使用直接访问成员的方式来获取值。\n",
    "\n",
    "见代码块1，如果是使用IntEnum，则可以直接访问其中的成员的值；但是如果是Enum，就只能通过value成员来获取对应值。\n",
    "\n",
    "从中获取的值均可以直接按照int对象进行调用，可以进行比较和加减操作。"
   ]
  },
  {
   "cell_type": "code",
   "execution_count": 4,
   "metadata": {},
   "outputs": [
    {
     "name": "stdout",
     "output_type": "stream",
     "text": [
      "0\n",
      "0\n",
      "Normal.OK\n",
      "0\n",
      "The Status is OK\n",
      "2\n"
     ]
    }
   ],
   "source": [
    "# Block 1\n",
    "from enum import IntEnum, Enum\n",
    "\n",
    "class Status(IntEnum):\n",
    "    OK = 0\n",
    "    WARNING = 1\n",
    "    CRITICAL = 2\n",
    "    UNKNOWN = 3\n",
    "    \n",
    "class Normal(Enum):\n",
    "    OK = 0\n",
    "    WARNING = 1\n",
    "    CRITICAL = 2\n",
    "    UNKNOWN = 3\n",
    "    \n",
    "\n",
    "# 调用Status中的值\n",
    "status: Status = Status.OK\n",
    "print(status)\n",
    "print(status.value)\n",
    "\n",
    "# 假如是一个一般的枚举\n",
    "normal: Normal = Normal.OK\n",
    "print(normal)\n",
    "print(normal.value)\n",
    "\n",
    "# status中的值可以直接以int类型进行调用\n",
    "# 比较\n",
    "if status == 0:\n",
    "    print(\"The Status is OK\")\n",
    "else:\n",
    "    print(\"The Status is invalid\")\n",
    "    \n",
    "# 直接调用\n",
    "print(status + 2)"
   ]
  },
  {
   "cell_type": "markdown",
   "metadata": {},
   "source": [
    "# 2 StrEnum\n",
    "\n",
    "Python 3.11 中新添加的内容。\n",
    "\n",
    "和IntEnum同理，它可以使得所有的成员可以按String来调用。"
   ]
  },
  {
   "cell_type": "code",
   "execution_count": 5,
   "metadata": {},
   "outputs": [
    {
     "name": "stdout",
     "output_type": "stream",
     "text": [
      "red\n",
      "red\n",
      "The Color is Red\n",
      "red a\n"
     ]
    }
   ],
   "source": [
    "# Block 2\n",
    "from enum import StrEnum, Enum\n",
    "\n",
    "class Color(StrEnum):\n",
    "    RED = \"red\"\n",
    "    GREEN = \"green\"\n",
    "    BLUE = \"blue\"\n",
    "    \n",
    "# 调用Color中的值\n",
    "color: Color = Color.RED\n",
    "print(color)\n",
    "print(color.value)\n",
    "\n",
    "# status中的值可以直接以int类型进行调用\n",
    "# 比较\n",
    "if color == \"red\":\n",
    "    print(\"The Color is Red\")\n",
    "else:\n",
    "    print(\"The Color is another\")\n",
    "    \n",
    "# 直接调用\n",
    "print(color + \" a\")"
   ]
  },
  {
   "cell_type": "markdown",
   "metadata": {},
   "source": [
    "# 3 auto\n",
    "\n",
    "自动使用成员名作为对应的值的方法\n",
    "\n",
    "对IntEnum，从1开始生成值\n",
    "\n",
    "对StrEnum，直接采用小写的对应成员名"
   ]
  },
  {
   "cell_type": "code",
   "execution_count": 6,
   "metadata": {},
   "outputs": [
    {
     "name": "stdout",
     "output_type": "stream",
     "text": [
      "1\n",
      "1\n",
      "admin\n",
      "admin\n"
     ]
    }
   ],
   "source": [
    "# Block 3\n",
    "from enum import IntEnum, StrEnum, auto\n",
    "\n",
    "class Status(IntEnum):\n",
    "    OK = auto()\n",
    "    WARNING = auto()\n",
    "    CRITICAL = auto()\n",
    "    UNKNOWN = auto()\n",
    "\n",
    "class Role(StrEnum):\n",
    "    ADMIN = auto()\n",
    "    USER = auto()\n",
    "    GUEST = auto()\n",
    "    \n",
    "# 调用Status中的值\n",
    "status: Status = Status.OK\n",
    "print(status)\n",
    "print(status.value)  # 其中自动生成对应的值\n",
    "    \n",
    "# 调用Role中的值\n",
    "role: Role = Role.ADMIN\n",
    "print(role)\n",
    "print(role.value)  # 其中自动生成对应的值"
   ]
  }
 ],
 "metadata": {
  "kernelspec": {
   "display_name": "pypro",
   "language": "python",
   "name": "python3"
  },
  "language_info": {
   "codemirror_mode": {
    "name": "ipython",
    "version": 3
   },
   "file_extension": ".py",
   "mimetype": "text/x-python",
   "name": "python",
   "nbconvert_exporter": "python",
   "pygments_lexer": "ipython3",
   "version": "3.12.2"
  }
 },
 "nbformat": 4,
 "nbformat_minor": 2
}
