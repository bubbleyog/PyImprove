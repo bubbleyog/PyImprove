{
 "cells": [
  {
   "cell_type": "markdown",
   "metadata": {},
   "source": [
    "# Python中常见错误\n",
    "\n",
    "## 1. 混淆 `==`和 `is`\n",
    "\n",
    "`==`比较的是值，`is`比较的是地址（id）\n",
    "\n",
    "有时候它们看起来一样，这是因为简单程序里Python给相同的值安排相同的地址，以节省内存。\n",
    "\n",
    "## 2. 在遍历时修改列表\n",
    "\n",
    "在遍历一个列表时，不能修改列表，特别是删除一个元素！\n",
    "\n",
    "尽量在需要修改时，把结果放到一个新的列表中而不是原列表中。\n",
    "\n",
    "以上程序中，当遍历到 `'B'`时，当然会删除它，但是我们得到的输出是 `'A', 'D', 'E'`，这是由于删除 `'B'`之后，指向 `'B'`的地址上立即变成 `'C'`，但是 `item`顺延指向下一个值 `'D'`，导致漏掉了 `'C'`。"
   ]
  },
  {
   "cell_type": "code",
   "execution_count": null,
   "metadata": {},
   "outputs": [],
   "source": [
    "items: list[str] = ['A', 'B', 'C', 'D', 'E']\n",
    "\n",
    "for item in items:\n",
    "    items.remove('B') if item == 'B' else print(item)\n",
    "    "
   ]
  },
  {
   "cell_type": "markdown",
   "metadata": {},
   "source": [
    "## 3. 大量修改字符串\n",
    "\n",
    "字符串属于不可变类型，在运行期间要更改时，会创建一个全新的字符串，这样就会导致大量占用内存空间。\n",
    "\n",
    "要解决这个问题，可以使用一个空列表，每次向列表中写入修改，然后用`join()`方法组成字符串。可以同时节省内存空间和时间。"
   ]
  },
  {
   "cell_type": "code",
   "execution_count": null,
   "metadata": {},
   "outputs": [],
   "source": [
    "# 关于字符串是修改还是新创建的问题\n",
    "a: str = 'a'\n",
    "print(id(a))\n",
    "a += 'Hello'\n",
    "print(id(a))\n",
    "\n",
    "# 这样的两个地址会差的很多，因为字符串在每次修改时创建一个新的"
   ]
  },
  {
   "cell_type": "code",
   "execution_count": null,
   "metadata": {},
   "outputs": [],
   "source": [
    "# 解决方案\n",
    "txt: str = 'text'\n",
    "\n",
    "elements: list[str] = []\n",
    "for i in range(50):\n",
    "    elements.append(txt)\n",
    "    \n",
    "res: str = ''.join(elements)\n",
    "print(res)"
   ]
  },
  {
   "cell_type": "markdown",
   "metadata": {},
   "source": [
    "## 4. 文件处理复杂化\n",
    "\n",
    "### 传统方法的问题\n",
    "\n",
    "常规的文件处理流程：打开文件->处理文件->关闭文件\n",
    "\n",
    "可能导致的问题：\n",
    "\n",
    "1. 如果打开和读取出了问题，就无法关闭而导致内存泄漏；\n",
    "2. 可能会忘记关闭文件。\n",
    "\n",
    "### 优化：使用with关键字\n",
    "\n",
    "将文件处理的部分包含在`with`中，当出现错误时可以自动处理，例如：\n",
    "\n",
    "```python\n",
    "with open('example.txt') as file:\n",
    "    processing...\n",
    "```\n",
    "\n",
    "## 5. 直接比较类型\n",
    "\n",
    "使用类似`type(a) == type(b)`的方法时：\n",
    "\n",
    "1. 可读性不好；\n",
    "2. 太过严格，对于多种可能类型的比较支持不好。\n",
    "\n",
    "优化：使用`isinstance(name, type)`进行比较，支持：\n",
    "\n",
    "1. 直接比较类型；\n",
    "2. 检查一个成员为类型名的元组中是否有成员是变量的类型；\n",
    "3. 可以识别继承，将子类判定为与父类相同。\n"
   ]
  },
  {
   "cell_type": "code",
   "execution_count": null,
   "metadata": {},
   "outputs": [],
   "source": [
    "# 使用isinstance进行类型比较\n",
    "\n",
    "a: int = 64\n",
    "b: str = 'abc'\n",
    "\n",
    "# 使用instance判断类型\n",
    "print(isinstance(a, int))  # True\n",
    "print(isinstance(b, int))  # False\n",
    "\n",
    "# 从多个可能的类型中选出变量的类型\n",
    "\n",
    "print(isinstance(a, (int, str)))  # True\n",
    "print(isinstance(a, (int, float)))  # True\n",
    "print(isinstance(a, (tuple, str)))  # False\n"
   ]
  },
  {
   "cell_type": "markdown",
   "metadata": {},
   "source": [
    "## 6. 枚举可以设置起始点\n",
    "\n",
    "对于枚举，通常从0开始，因此就会有代码块6.1的情况，我们需要在枚举的时候使用`i+1`\n",
    "\n",
    "但是实际上，枚举可以设置起始点，如代码块6.2。设置方法为在`enumerate`中再加一个`start`参数，作为起始点。\n",
    "\n",
    "*注意：此处没有设置步长的方法。*"
   ]
  },
  {
   "cell_type": "code",
   "execution_count": null,
   "metadata": {},
   "outputs": [],
   "source": [
    "# Block 6.1\n",
    "letters: str = 'ABCDEF'\n",
    "for i, letter in enumerate(letters):\n",
    "    print(f'{i+1}: {letter}')"
   ]
  },
  {
   "cell_type": "code",
   "execution_count": null,
   "metadata": {},
   "outputs": [],
   "source": [
    "# Block 6.2\n",
    "letters: str = 'ABCDEF'\n",
    "for i, letter in enumerate(letters, start=1): \n",
    "    print(f'{i}: {letter}')"
   ]
  },
  {
   "cell_type": "markdown",
   "metadata": {},
   "source": [
    "## 7. 弱引用\n",
    "\n",
    "在Python中，类似`b = a`的操作只是将`a`的地址引用给`b`，如代码块7.1。\n",
    "\n",
    "如果要复制值（代码块7.2）：`import copy`\n",
    "\n",
    "1. 对不可变类型：`b=a`相当于传递值；\n",
    "2. 可变类型：\n",
    "    - 浅拷贝：`b = copy.copy(a)`，只复制一层的值，不会复制内部列表；\n",
    "    - 深拷贝：`b = copy.deepcopy(a)`，同时复制内层列表的值。"
   ]
  },
  {
   "cell_type": "code",
   "execution_count": null,
   "metadata": {},
   "outputs": [],
   "source": [
    "# Block 7.1\n",
    "a: list = [1, 2, 3]\n",
    "b = a\n",
    "\n",
    "# 打印地址：二者相同\n",
    "print(id(a))\n",
    "print(id(b))\n",
    "\n",
    "# 对列表进行添加元素操作：对同一个进行了操作\n",
    "a.append(111)\n",
    "b.append(222)\n",
    "print(a)\n",
    "print(b)\n"
   ]
  },
  {
   "cell_type": "code",
   "execution_count": null,
   "metadata": {},
   "outputs": [],
   "source": [
    "# Block 7.2\n",
    "import copy\n",
    "\n",
    "\n",
    "a: list = [1, 2, [3, 4]]\n",
    "b = copy.copy(a)  # 浅拷贝\n",
    "c = copy.deepcopy(a)  # 深拷贝\n",
    "\n",
    "# 对比列表和内部列表的地址\n",
    "print(id(a), id(a[2]))\n",
    "print(id(b), id(b[2]))  # 前一个和a不同，后一个和a相同\n",
    "print(id(c), id(c[2]))  # 两个和a都不同\n"
   ]
  },
  {
   "cell_type": "markdown",
   "metadata": {},
   "source": [
    "## 8. 在一个异常处理中处理所有问题\n",
    "\n",
    "不要使用一个笼统的`Exception`处理所有异常，因为会导致无法确定出现了什么异常。\n",
    "\n",
    "尽可能使用具体的异常类型来处理异常。\n",
    "\n",
    "## 9. 变量命名\n",
    "\n",
    "不要给变量起单个字母的名字，尽量使用有辨识度的命名，以防之后记不住命名了个啥"
   ]
  }
 ],
 "metadata": {
  "kernelspec": {
   "display_name": "pypro",
   "language": "python",
   "name": "python3"
  },
  "language_info": {
   "codemirror_mode": {
    "name": "ipython",
    "version": 3
   },
   "file_extension": ".py",
   "mimetype": "text/x-python",
   "name": "python",
   "nbconvert_exporter": "python",
   "pygments_lexer": "ipython3",
   "version": "3.12.4"
  }
 },
 "nbformat": 4,
 "nbformat_minor": 2
}
