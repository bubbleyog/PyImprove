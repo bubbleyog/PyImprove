{
 "cells": [
  {
   "cell_type": "markdown",
   "metadata": {},
   "source": [
    "# Python 的隐藏特性\n",
    "\n",
    "## 1. 任意数量传参\n",
    "\n",
    "### `*args`传递任意数量参数\n",
    "\n",
    "在函数中，可以使用`*args`作为参数，以传递避险数量的参数。\n",
    "\n",
    "这些参数会被打包成一个数组，使用`args`读取，如代码块1.1。\n",
    "\n",
    "### `**kwargs`传递任意数量关键字参数\n",
    "\n",
    "可以传递具有关键字的参数，例如：`start = 1`，如代码块1.2。\n",
    "\n",
    "关键字参数将以键值对形式保存在`kwargs`字典中>\n"
   ]
  },
  {
   "cell_type": "code",
   "execution_count": null,
   "metadata": {},
   "outputs": [],
   "source": [
    "# Block 1.1\n",
    "def func1(*args):\n",
    "    print(args)\n",
    "    \n",
    "def func2(a, b, *args):\n",
    "    print(f'a: {a}, b: {b}')\n",
    "    print(f'others: {args}')\n",
    "    \n",
    "    \n",
    "func1(1, 2, 3, 4)\n",
    "func2(1, 2, 3, 4)"
   ]
  },
  {
   "cell_type": "code",
   "execution_count": null,
   "metadata": {},
   "outputs": [],
   "source": [
    "# Block 1.2\n",
    "def func2(a, b, *args, **kwargs):\n",
    "    print(f'a: {a}, b: {b}')\n",
    "    print(f'args: {args}')\n",
    "    print(f'kwargs: {kwargs}')\n",
    "    \n",
    "    \n",
    "func2(1, 2, 3, 4, kw1=5, kw2=6)"
   ]
  },
  {
   "cell_type": "markdown",
   "metadata": {},
   "source": [
    "## 2. 函数作为一等公民\n",
    "\n",
    "函数作为一等公民支持的操作：\n",
    "\n",
    "1. 复制给变量；\n",
    "2. 作为参数传递给函数；\n",
    "3. 作为函数返回值；\n",
    "4. 存储在数据结构中。\n",
    "\n",
    "传递时只使用函数名，不使用函数调用。\n",
    "\n",
    "## 3. 闭包\n",
    "\n",
    "闭包：嵌套函数中使用内层函数，将内层函数传递给外层。\n",
    "\n",
    "用于实现动态函数，如代码块3.1。这个外层函数将内层函数作为返回值返回了。\n"
   ]
  },
  {
   "cell_type": "code",
   "execution_count": null,
   "metadata": {},
   "outputs": [],
   "source": [
    "# BLock 3.1\n",
    "def adder(value):\n",
    "    def inner_function(base):\n",
    "        return base + value\n",
    "    return inner_function\n",
    "\n",
    "# 通过以上代码可以得到一个动态设置执行过程的函数\n",
    "add_5 = adder(5)  # 获得一个value为5的inner_function\n",
    "print(add_5(10))  # 使用add_5函数"
   ]
  },
  {
   "cell_type": "markdown",
   "metadata": {},
   "source": [
    "## 4. 装饰器\n",
    "\n",
    "装饰器的作用是修改函数，使函数可以实现一些功能。\n",
    "\n",
    "将以上的闭包函数作为装饰器，相当于将被装饰的函数作为参数传递给闭包外层函数。当然，闭包函数的参数必须是函数类型。\n",
    "\n",
    "## 5. 非局部关键字 nonlocal\n",
    "\n",
    "在嵌套函数中，内层函数对外层已经定义的变量进行定义时，实际上创建了一个局部变量，它的作用域在内层函数内（代码块5.1）。内层函数的修改不影响外层函数的值。\n",
    "\n",
    "使用`nonlocal`关键字修饰内层的变量，编译器把它链接到外层的作用域中的这个变量，并对其进行修改。（代码块5.2）\n",
    "\n",
    "每次使用`nonlocal`关键字时，溯源到上一层。这意味着如果多层使用`nonlocal`，将从最内层溯源到第一个没有使用此关键字的那个变量。（代码块5.3）\n"
   ]
  },
  {
   "cell_type": "code",
   "execution_count": null,
   "metadata": {},
   "outputs": [],
   "source": [
    "# Block 5.1\n",
    "def func():\n",
    "    x = 10\n",
    "    print(f'outer value: {x}')\n",
    "    \n",
    "    def inner():\n",
    "        x = 20\n",
    "        print(f'inner value: {x}')\n",
    "        return\n",
    "    \n",
    "    inner()\n",
    "    print(f'now outer value: {x}')\n",
    "    \n",
    "\n",
    "func()"
   ]
  },
  {
   "cell_type": "code",
   "execution_count": null,
   "metadata": {},
   "outputs": [],
   "source": [
    "# Block 5.2\n",
    "def func():\n",
    "    x = 10\n",
    "    print(f'outer value: {x}')\n",
    "    \n",
    "    def inner():\n",
    "        nonlocal x\n",
    "        x = 20\n",
    "        print(f'inner value: {x}')\n",
    "        return\n",
    "    \n",
    "    inner()\n",
    "    print(f'now outer value: {x}')\n",
    "    \n",
    "\n",
    "func()"
   ]
  },
  {
   "cell_type": "code",
   "execution_count": null,
   "metadata": {},
   "outputs": [],
   "source": [
    "# Block 5.3\n",
    "def func():\n",
    "    x = 10\n",
    "    print(f'outer value: {x}')\n",
    "    \n",
    "    def inner():\n",
    "        x = 20\n",
    "        print(f'inner value: {x}')\n",
    "        \n",
    "        def inner2():\n",
    "            nonlocal x\n",
    "            x = 30\n",
    "            print(f'inner2: {x}')\n",
    "            \n",
    "        inner2()\n",
    "        print(f'now inner: {x}')\n",
    "        return\n",
    "    \n",
    "    inner()\n",
    "    print(f'now outer value: {x}')\n",
    "    \n",
    "def func1():\n",
    "    x = 10\n",
    "    print(f'outer value: {x}')\n",
    "    \n",
    "    def inner():\n",
    "        nonlocal x  # 这时候中间这个也是非局域的\n",
    "        x = 20\n",
    "        print(f'inner value: {x}')\n",
    "        \n",
    "        def inner2():\n",
    "            nonlocal x\n",
    "            x = 30\n",
    "            print(f'inner2: {x}')\n",
    "            \n",
    "        inner2()\n",
    "        print(f'now inner: {x}')\n",
    "        return\n",
    "    \n",
    "    inner()\n",
    "    print(f'now outer value: {x}')\n",
    "    \n",
    "\n",
    "print(\"单层修改\")\n",
    "func()\n",
    "print(\"多层修改\")\n",
    "func1()"
   ]
  }
 ],
 "metadata": {
  "kernelspec": {
   "display_name": "pypro",
   "language": "python",
   "name": "python3"
  },
  "language_info": {
   "codemirror_mode": {
    "name": "ipython",
    "version": 3
   },
   "file_extension": ".py",
   "mimetype": "text/x-python",
   "name": "python",
   "nbconvert_exporter": "python",
   "pygments_lexer": "ipython3",
   "version": "3.12.4"
  }
 },
 "nbformat": 4,
 "nbformat_minor": 2
}
