{
 "cells": [
  {
   "cell_type": "markdown",
   "metadata": {},
   "source": [
    "# 冻结集合FrozenSet\n",
    "\n",
    "FrozenSet是一种集合（set），和一般集合的区别在于，一般集合是mut，而FrozenSet是immut。\n",
    "\n",
    "对于FrozenSet来说，原本可以进行的Set操作中的`add()`、`remove()`方法不能使用。（代码块2）\n",
    "\n",
    "FrozenSet的修改操作：（代码块3）\n",
    "\n",
    "- `union()`：将FrozenSet和一个集合合并；\n",
    "- `intersection()`：求交集；\n",
    "- `difference()`：求差集，即删除一个子集；\n",
    "- `symmetric_difference()`：求对称差集。\n",
    "\n",
    "这些操作并不修改FrozenSet，但是可以返回其进行某些操作的结果\n"
   ]
  },
  {
   "cell_type": "code",
   "execution_count": null,
   "metadata": {},
   "outputs": [],
   "source": [
    "# Block 1\n",
    "# 正常的set类型\n",
    "normal: set[int] = {1, 2, 3, 4}\n",
    "# frozenset类型\n",
    "frozen: frozenset[int] = frozenset({1, 2, 3, 4})\n",
    "\n",
    "print(normal)\n",
    "print(frozen)  # 输出会标注froaenset类型"
   ]
  },
  {
   "cell_type": "code",
   "execution_count": null,
   "metadata": {},
   "outputs": [],
   "source": [
    "normal.add(5)\n",
    "print(normal)\n",
    "normal.remove(1)\n",
    "print(normal)\n",
    "\n",
    "frozen.add(5)  # 会报错"
   ]
  },
  {
   "cell_type": "code",
   "execution_count": null,
   "metadata": {},
   "outputs": [],
   "source": [
    "# Block 3\n",
    "print(frozen.union({10}))  # 集合合并\n",
    "print(frozen.intersection({1, 2}))  # 交集\n",
    "print(frozen.difference({1, 2}))  # 差集\n",
    "print(frozen.symmetric_difference({1, 2}))  # 对称差集"
   ]
  },
  {
   "cell_type": "markdown",
   "metadata": {},
   "source": [
    "# 特性：Hashable\n",
    "\n",
    "可哈希化，即作为字典中的键。\n",
    "\n",
    "与之相比，普通的Set作为可变类型不是Hashable的。"
   ]
  },
  {
   "cell_type": "code",
   "execution_count": 8,
   "metadata": {},
   "outputs": [
    {
     "name": "stdout",
     "output_type": "stream",
     "text": [
      "Role: Editor\n"
     ]
    }
   ],
   "source": [
    "# Block 4\n",
    "# 示例：权限表\n",
    "\n",
    "# 创建权限表\n",
    "read_only: frozenset[int] = frozenset({'read'})\n",
    "read_write: frozenset[int] = frozenset({'read', 'write'})\n",
    "admin: frozenset[int] = frozenset({'read', 'write', 'delete'})\n",
    "\n",
    "# 各角色的权限\n",
    "roles = {\n",
    "    read_only: 'Viewer',\n",
    "    read_write: 'Editor',\n",
    "    admin: 'Administrator'\n",
    "}\n",
    "\n",
    "# 查询权限对应的身份\n",
    "permissions: frozenset[str] = frozenset({'read', 'write'})\n",
    "role: str = roles.get(permissions, 'Unknomn Role')\n",
    "print(f'Role: {role}')"
   ]
  }
 ],
 "metadata": {
  "kernelspec": {
   "display_name": "pypro",
   "language": "python",
   "name": "python3"
  },
  "language_info": {
   "codemirror_mode": {
    "name": "ipython",
    "version": 3
   },
   "file_extension": ".py",
   "mimetype": "text/x-python",
   "name": "python",
   "nbconvert_exporter": "python",
   "pygments_lexer": "ipython3",
   "version": "3.12.2"
  }
 },
 "nbformat": 4,
 "nbformat_minor": 2
}
