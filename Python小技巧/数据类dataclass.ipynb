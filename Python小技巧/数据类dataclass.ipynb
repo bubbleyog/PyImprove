{
 "cells": [
  {
   "cell_type": "markdown",
   "metadata": {},
   "source": [
    "# 1 dataclass装饰器\n",
    "\n",
    "dataclass装饰器提供了一种创建数据类的方法，其特性包括：\n",
    "\n",
    "1. 自动生成`__init__`、`__repr__`、`__eq__`等方法；\n",
    "2. 减少代码量；\n",
    "3. 强制要求所有的成员使用类型注解，以提高可读性。\n"
   ]
  },
  {
   "cell_type": "code",
   "execution_count": 4,
   "metadata": {},
   "outputs": [],
   "source": [
    "from dataclasses import dataclass\n",
    "\n",
    "@dataclass\n",
    "class Person:\n",
    "    name: str\n",
    "    age: int\n",
    "    friends: list[str]\n",
    "    "
   ]
  },
  {
   "cell_type": "markdown",
   "metadata": {},
   "source": [
    "# 2 dataclass的具体特性\n",
    "\n",
    "## 2.1 结构化输出\n",
    "\n",
    "dataclass可以以一个类的形式输出其中的数据。既可以整体输出，也可以单独输出一个成员。\n",
    "\n",
    "## 2.2 比较\n",
    "\n",
    "两个dataclass对象之间可以进行比较，比较规则如下：\n",
    "\n",
    "1. 按字段顺序比较：比较是按字段定义的顺序进行的。第一个字段的值进行比较，如果相等，则比较第二个字段，以此类推。\n",
    "2. 字段类型必须可比较：所有字段的类型必须支持比较操作，否则会引发 TypeError。"
   ]
  },
  {
   "cell_type": "code",
   "execution_count": 6,
   "metadata": {},
   "outputs": [
    {
     "name": "stdout",
     "output_type": "stream",
     "text": [
      "Person(name='Alice', age=25, friends=['Bob', 'Charlie'])\n",
      "Alice\n",
      "True\n",
      "False\n",
      "False\n"
     ]
    }
   ],
   "source": [
    "# 以类的形式输出\n",
    "Alice = Person(\"Alice\", 25, [\"Bob\", \"Charlie\"])\n",
    "print(Alice)  # 整体输出\n",
    "print(Alice.name)  # 输出name\n",
    "\n",
    "# 进行比较（注意添加order=True属性）\n",
    "@dataclass(order=True)\n",
    "class Person:\n",
    "    name: str\n",
    "    age: int\n",
    "    friends: list[str]\n",
    "    \n",
    "# 比较是基于age的（第一个可比较的属性）\n",
    "Dannel = Person(\"Dannel\", 27, [\"Charlie\", \"Catherine\"])\n",
    "Fred = Person(\"Fred\", 30, [])\n",
    "print(Alice < Dannel)  # True\n",
    "print(Dannel > Fred)  # False\n",
    "print(Alice == Fred)  # False"
   ]
  },
  {
   "cell_type": "markdown",
   "metadata": {},
   "source": [
    "## 2.3 设为不可变\n",
    "\n",
    "可以使用frozen=True属性将数据类设为不可变，以保护其中的数据不被修改。"
   ]
  },
  {
   "cell_type": "code",
   "execution_count": 7,
   "metadata": {},
   "outputs": [
    {
     "ename": "FrozenInstanceError",
     "evalue": "cannot assign to field 'age'",
     "output_type": "error",
     "traceback": [
      "\u001b[0;31m---------------------------------------------------------------------------\u001b[0m",
      "\u001b[0;31mFrozenInstanceError\u001b[0m                       Traceback (most recent call last)",
      "Cell \u001b[0;32mIn[7], line 8\u001b[0m\n\u001b[1;32m      5\u001b[0m     friends: \u001b[38;5;28mlist\u001b[39m[\u001b[38;5;28mstr\u001b[39m]\n\u001b[1;32m      7\u001b[0m Alice \u001b[38;5;241m=\u001b[39m Person(\u001b[38;5;124m\"\u001b[39m\u001b[38;5;124mAlice\u001b[39m\u001b[38;5;124m\"\u001b[39m, \u001b[38;5;241m25\u001b[39m, [\u001b[38;5;124m\"\u001b[39m\u001b[38;5;124mBob\u001b[39m\u001b[38;5;124m\"\u001b[39m, \u001b[38;5;124m\"\u001b[39m\u001b[38;5;124mCharlie\u001b[39m\u001b[38;5;124m\"\u001b[39m])\n\u001b[0;32m----> 8\u001b[0m Alice\u001b[38;5;241m.\u001b[39mage \u001b[38;5;241m=\u001b[39m \u001b[38;5;241m26\u001b[39m\n",
      "File \u001b[0;32m<string>:4\u001b[0m, in \u001b[0;36m__setattr__\u001b[0;34m(self, name, value)\u001b[0m\n",
      "\u001b[0;31mFrozenInstanceError\u001b[0m: cannot assign to field 'age'"
     ]
    }
   ],
   "source": [
    "@dataclass(frozen=True)\n",
    "class Person:\n",
    "    name: str\n",
    "    age: int\n",
    "    friends: list[str]\n",
    "    \n",
    "Alice = Person(\"Alice\", 25, [\"Bob\", \"Charlie\"])\n",
    "Alice.age = 26  # 报错，因为已经设为不可变量"
   ]
  },
  {
   "cell_type": "markdown",
   "metadata": {},
   "source": [
    "# 3 属性设置\n",
    "\n",
    "可以使用`@property`装饰器来为`dataclass`添加属性。这种方法的特性有：\n",
    "\n",
    "1. 计算属性：`@property`允许你将一个方法转换为一个属性，从而可以像访问普通属性一样访问计算结果。这样可以在访问属性时执行一些计算或逻辑，而不是直接返回存储的值。\n",
    "\n",
    "2. 只读属性：使用`@property`可以创建只读属性，防止属性被修改。你可以只定义`getter`方法，而不定义`setter`方法。\n",
    "\n",
    "3. 封装：`@property`提供了一种封装数据的方式，使得类的接口更加简洁和直观，同时隐藏内部实现细节。"
   ]
  },
  {
   "cell_type": "code",
   "execution_count": 8,
   "metadata": {},
   "outputs": [
    {
     "name": "stdout",
     "output_type": "stream",
     "text": [
      "12\n",
      "14\n",
      "Rectangle(width=3, height=4)\n"
     ]
    }
   ],
   "source": [
    "from dataclasses import dataclass\n",
    "\n",
    "@dataclass\n",
    "class Rectangle:\n",
    "    width: float\n",
    "    height: float\n",
    "    \n",
    "    @property\n",
    "    def area(self) -> float:  # 面积\n",
    "        return self.width * self.height\n",
    "    \n",
    "    @property\n",
    "    def perimeter(self) -> float:  # 周长\n",
    "        return 2 * (self.width + self.height)\n",
    "    \n",
    "    def describe(self) -> str:\n",
    "        return f\"Rectangle(width={self.width}, height={self.height})\"\n",
    "    \n",
    "    \n",
    "print(\"For rec1: \")\n",
    "rec1 = Rectangle(3, 4)\n",
    "print(rec1.area)  # 12.0\n",
    "print(rec1.perimeter)  # 14.0\n",
    "print(rec1.describe())  # Rectangle(width=3, height=4)"
   ]
  }
 ],
 "metadata": {
  "kernelspec": {
   "display_name": "pypro",
   "language": "python",
   "name": "python3"
  },
  "language_info": {
   "codemirror_mode": {
    "name": "ipython",
    "version": 3
   },
   "file_extension": ".py",
   "mimetype": "text/x-python",
   "name": "python",
   "nbconvert_exporter": "python",
   "pygments_lexer": "ipython3",
   "version": "3.12.2"
  }
 },
 "nbformat": 4,
 "nbformat_minor": 2
}
