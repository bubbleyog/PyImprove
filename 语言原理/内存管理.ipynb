{
 "cells": [
  {
   "cell_type": "markdown",
   "metadata": {},
   "source": [
    "# Python内存管理\n",
    "\n",
    "Python内存管理的总机制：计数机制为主，标记-清除和分代收集为辅。\n",
    "\n",
    "## 1. 对象引用计数\n",
    "\n",
    "### 1.1 对象存储\n",
    "\n",
    "Python对象存储机制：双向环状链表。\n",
    "\n",
    "链表的结构体包含的元数据有：\n",
    "\n",
    "- 上一个对象的地址\n",
    "- 下一个对象的地址\n",
    "- 对象的类型\n",
    "- 引用的个数（**引用计数器**）\n",
    "- 值类型：对象的值\n",
    "- 集合类型：元素的个数\n",
    "\n",
    "**前四个为所有对象共有的元数据类型。**\n",
    "\n",
    "### 1.2 引用计数器\n",
    "\n",
    "在C源码中，每个对象中有一个`ob_refcnt`为引用计数器。\n",
    "\n",
    "引用计数器的值可以使用`sys.getrefcount(item)`来获取。获取时会临时使该值+1，且不总是真实值，但是可以反映计数变化。\n",
    "\n",
    "引用计数器的初始值为1，当引用一次的时候+1，删除一次的时候-1，如代码块1.1。\n",
    "\n",
    "引用计数器为0时：\n",
    "\n",
    "1. 将对象从链表中删除；\n",
    "2. 对象销毁，归还内存。\n"
   ]
  },
  {
   "cell_type": "code",
   "execution_count": 2,
   "metadata": {},
   "outputs": [
    {
     "name": "stdout",
     "output_type": "stream",
     "text": [
      "2\n",
      "3\n",
      "3\n",
      "2\n"
     ]
    }
   ],
   "source": [
    "# Block 1.1\n",
    "\n",
    "import sys\n",
    "\n",
    "a = 2.513\n",
    "print(sys.getrefcount(a) - 1)\n",
    "\n",
    "b = a\n",
    "print(sys.getrefcount(a) - 1)  # a的引用计数器增加\n",
    "print(sys.getrefcount(b) - 1)\n",
    "\n",
    "del b\n",
    "print(sys.getrefcount(a) - 1)  # a的引用计数器减少"
   ]
  },
  {
   "cell_type": "markdown",
   "metadata": {},
   "source": [
    "## 2. 标记-清除机制\n",
    "\n",
    "### 2.1 循环引用的内存泄露问题\n",
    "\n",
    "如下代码逻辑：\n",
    "\n",
    "```python\n",
    "v1 = [1, 2, 3]\n",
    "v2 = [4, 5, 6]\n",
    "\n",
    "v1.append(v2)  # v2的引用计数器为2\n",
    "v2.append(v1)  # v1的引用计数器为2\n",
    "\n",
    "del v1  # 引用计数器-1，为1\n",
    "del v2  # 引用计数器-1，为1\n",
    "```\n",
    "\n",
    "就会引发一个问题：两个变量的引用次数为1，不会被删除，但是指向它们的变量消失导致不能操作->内存泄漏\n",
    "\n",
    "### 2.2 标记清除\n",
    "\n",
    "目的：解决引用计数器机制在循环引用中的问题。\n",
    "\n",
    "实现：在底层增加一个链表，用于存储可能存在循环引用的对象。一定条件下检查是否有循环引用的问题，定期检查，使循环引用的引用计数器-1，若得到0则直接清除。\n",
    "\n",
    "## 3. 分代回收\n",
    "\n",
    "机制：形成三个链表，分别为0代、1代、2代：\n",
    "\n",
    "- 0代：对象个数达到700个后进行一次扫描；\n",
    "- 1代：0代扫描10次时，扫描一次；\n",
    "- 2代：1代扫描10次时，扫描一次。\n",
    "\n",
    "## 4. 缓存机制\n",
    "\n",
    "Python使用缓存机制来节省内存：\n",
    "\n",
    "### 4.1 池\n",
    "\n",
    "对于常用数据，Python使用池进行预存，在使用时不会开辟新内存，而是直接指向池中的地址。如代码块4.1。\n",
    "\n",
    "池中的数据为从-5到256的int类型数值。\n",
    "\n",
    "### 4.2 free_list机制\n",
    "\n",
    "对引用计数器置0的情况，将对象添加到free_list链表中进行缓存。再开辟对象时，不使用新的内存空间，而是优先使用free_list的内存空间。\n",
    "\n",
    "对不同的类型有不同的机制和容量：\n",
    "\n",
    "- int类型：不基于free_list，而是使用数据池；\n",
    "- float类型：容量为100个；\n",
    "- str类型：维护unicode_latin1[256]，包含所有的ASCII字符，使用时不再创建；\n",
    "- list类型：最多80个对象；\n",
    "- tuple类型：元组元素数为1到20，索引用于标记元素数，每种元素数最多2000个元素；\n",
    "- dict类型：容量为80。\n"
   ]
  },
  {
   "cell_type": "code",
   "execution_count": 4,
   "metadata": {},
   "outputs": [
    {
     "name": "stdout",
     "output_type": "stream",
     "text": [
      "9771880\n",
      "9771880\n",
      "140537918606256\n",
      "140537918606224\n"
     ]
    }
   ],
   "source": [
    "# Block 4.1\n",
    "\n",
    "v1 = 3\n",
    "v2 = 3\n",
    "print(id(v1))\n",
    "print(id(v2))  # v1和v2的地址相同\n",
    "\n",
    "v3 = 666\n",
    "v4 = 666\n",
    "print(id(v3))\n",
    "print(id(v4))  # 池中没有此数值，地址不同"
   ]
  },
  {
   "cell_type": "code",
   "execution_count": 6,
   "metadata": {},
   "outputs": [
    {
     "name": "stdout",
     "output_type": "stream",
     "text": [
      "140537988543376\n",
      "140537988542608\n"
     ]
    }
   ],
   "source": [
    "# Block 4.2\n",
    "\n",
    "m = 6.13\n",
    "print(id(m))\n",
    "del m\n",
    "n = 7.28\n",
    "print(id(n))"
   ]
  }
 ],
 "metadata": {
  "kernelspec": {
   "display_name": "pypro",
   "language": "python",
   "name": "python3"
  },
  "language_info": {
   "codemirror_mode": {
    "name": "ipython",
    "version": 3
   },
   "file_extension": ".py",
   "mimetype": "text/x-python",
   "name": "python",
   "nbconvert_exporter": "python",
   "pygments_lexer": "ipython3",
   "version": "3.12.4"
  }
 },
 "nbformat": 4,
 "nbformat_minor": 2
}
