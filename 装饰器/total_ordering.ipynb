{
 "cells": [
  {
   "cell_type": "markdown",
   "metadata": {},
   "source": [
    "# @total_ordering\n",
    "\n",
    "修饰器，用于在实现一个比较方法之后，自动实现其余的比较方法。\n",
    "\n",
    "即在实现大于、小于、大于等于、小于等于中的任意一个之后，自动实现其余的。\n",
    "\n",
    "注意事项：\n",
    "\n",
    "1. 建议包含`__eq__`和四种比较中的一种；\n",
    "2. 使用此方法可能导致性能损失；\n",
    "3. 方法不尝试重载已经在类中声明的方法。\n",
    "\n",
    "*实验情况：不加`@total_ordering`也能实现其余方法，待深入研究*\n"
   ]
  },
  {
   "cell_type": "code",
   "execution_count": 2,
   "metadata": {},
   "outputs": [
    {
     "name": "stdout",
     "output_type": "stream",
     "text": [
      "True\n",
      "True\n",
      "True\n"
     ]
    }
   ],
   "source": [
    "# 常规方法的实现\n",
    "from typing import Self\n",
    "\n",
    "\n",
    "class Person:\n",
    "    def __init__(self, name: str, age: int) -> None:\n",
    "        self.name = name\n",
    "        self.age = age\n",
    "        \n",
    "    # 定义一个__eq__用于比较，将比较设为比较字典值\n",
    "    def __eq__(self):\n",
    "        return self.__dict__ == other.__dict__\n",
    "    \n",
    "    # 定义一个用于比较大小的方法\n",
    "    def __lt__(self):\n",
    "        return (self.name.lower(), self.age) < (other.name.lower(), other.age)  # 使用姓名进行比较\n",
    "        \n",
    "bob: Person = (\"Bob\", 25)\n",
    "bob1: Person = (\"Bob\", 25)\n",
    "luigi: Person = (\"Luigi\", 32)\n",
    "\n",
    "print(bob == bob1)  \n",
    "# 注释掉__eq__时，比较的是内存地址，返回False\n",
    "# 保留__eq__时，比较的是字典值，返回True\n",
    "\n",
    "print(luigi > bob)\n",
    "# __lt__使得这两个值可以进行比较\n",
    "\n",
    "print(luigi >= bob)  # 未实现的方法，报错"
   ]
  },
  {
   "cell_type": "code",
   "execution_count": 5,
   "metadata": {},
   "outputs": [
    {
     "name": "stdout",
     "output_type": "stream",
     "text": [
      "True\n",
      "True\n",
      "True\n"
     ]
    }
   ],
   "source": [
    "# 使用total_ordering\n",
    "from functools import total_ordering\n",
    "from typing import Self\n",
    "\n",
    "\n",
    "@total_ordering\n",
    "class Person:\n",
    "    def __init__(self, name: str, age: int) -> None:\n",
    "        self.name = name\n",
    "        self.age = age\n",
    "        \n",
    "    # 定义一个__eq__用于比较，将比较设为比较字典值\n",
    "    def __eq__(self):\n",
    "        return self.__dict__ == other.__dict__\n",
    "    \n",
    "    # 定义一个用于比较大小的方法\n",
    "    def __lt__(self):\n",
    "        return (self.name.lower(), self.age) < (other.name.lower(), other.age)  # 使用姓名进行比较\n",
    "        \n",
    "bob: Person = (\"Bob\", 25)\n",
    "bob1: Person = (\"Bob\", 25)\n",
    "luigi: Person = (\"Luigi\", 32)\n",
    "\n",
    "print(bob == bob1)  \n",
    "# 注释掉__eq__时，比较的是内存地址，返回False\n",
    "# 保留__eq__时，比较的是字典值，返回True\n",
    "\n",
    "print(luigi > bob)\n",
    "# __lt__使得这两个值可以进行比较\n",
    "\n",
    "print(luigi >= bob)\n",
    "# 由于使用了@total_ordering，其余比较也起作用"
   ]
  },
  {
   "cell_type": "markdown",
   "metadata": {},
   "source": [
    "from typing import Self\n",
    "\n",
    "\n",
    "class Person:"
   ]
  }
 ],
 "metadata": {
  "kernelspec": {
   "display_name": "pypro",
   "language": "python",
   "name": "python3"
  },
  "language_info": {
   "codemirror_mode": {
    "name": "ipython",
    "version": 3
   },
   "file_extension": ".py",
   "mimetype": "text/x-python",
   "name": "python",
   "nbconvert_exporter": "python",
   "pygments_lexer": "ipython3",
   "version": "3.12.4"
  }
 },
 "nbformat": 4,
 "nbformat_minor": 2
}
