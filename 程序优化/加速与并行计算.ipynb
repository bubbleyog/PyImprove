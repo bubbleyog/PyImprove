{
 "cells": [
  {
   "cell_type": "markdown",
   "metadata": {},
   "source": [
    "# 1 Python多线程和多进程\n",
    "\n",
    "## 1.1 Python的并行机制\n",
    "\n",
    "### 1.1.1 GIL\n",
    "\n",
    "GIL，即全局解释器锁：锁定解释器，保证同时只有一个线程执行Python字节码。\n",
    "\n",
    "目的：保证对象在并发访问的时候是安全的（阻止冲突），减少实现多线程时的工作量（但是导致伪多线程）。\n",
    "\n",
    "一些官方或第三方库可能会试图解开GIL。\n",
    "\n",
    "=>Python的多线程在以下的两种场景：\n",
    "\n",
    "- CPU密集型：无法使用多个核心进行加速，是伪的多线程；\n",
    "- I/O密集型：通常会释放GIL，使得可以进行并行读写。\n",
    "\n",
    "缺点：导致多线程的性能表现和单线程相同。\n",
    "\n",
    "### 1.1.2 多线程与多进程\n",
    "\n",
    "|类型|多线程|多进程|\n",
    "|---|---|---|\n",
    "|通信|成本低，数据共享方便|成本高，处理复杂|\n",
    "|多核CPU|独占，利用率低|动态分配，利用率高|\n",
    "|适用|I/O密集型|CPU密集型|\n",
    "|内存空间|共享|独享|\n",
    "|对应的库|`threading`|`multiprocessing`|\n",
    "\n",
    "管理库：`from concurrent.futures import ThreadPoolExecutor, ProcessPoolExecutor`\n",
    "\n",
    "## 1.2 多线程Threading\n",
    "\n"
   ]
  },
  {
   "cell_type": "code",
   "execution_count": null,
   "metadata": {},
   "outputs": [],
   "source": []
  }
 ],
 "metadata": {
  "kernelspec": {
   "display_name": "pypro",
   "language": "python",
   "name": "python3"
  },
  "language_info": {
   "name": "python",
   "version": "3.12.2"
  }
 },
 "nbformat": 4,
 "nbformat_minor": 2
}
