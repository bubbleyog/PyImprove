{
 "cells": [
  {
   "cell_type": "markdown",
   "metadata": {},
   "source": [
    "# 生成器应用\n",
    "\n",
    "## 1. 斐波那契生成器\n",
    "\n",
    "如代码块1.1，斐波那契数列生成器的一种实现方式。"
   ]
  },
  {
   "cell_type": "code",
   "execution_count": null,
   "metadata": {},
   "outputs": [],
   "source": [
    "# Block 1.1\n",
    "\n",
    "from typing import Generator\n",
    "\n",
    "\n",
    "def fibonacci_gen() -> Generator[int, None, None]:\n",
    "    a, b = 0, 1  # 斐波那契数列的起始\n",
    "    while True:\n",
    "        yield a\n",
    "        a, b = b, (a + b)\n",
    "        \n",
    "fib_gen: Generator[int, None, None] = fibonacci_gen()\n",
    "n: int = 10\n",
    "line_break: str = '-' * 20\n",
    "\n",
    "flag = 'a'\n",
    "while flag != 'q':\n",
    "    flag = input(f'按Enter以获得数列的下{n}个值，或按q退出')\n",
    "    if flag == 'q':\n",
    "        break\n",
    "    for i in range(n):\n",
    "        print(f'{next(fib_gen)}')\n",
    "        \n",
    "    print(line_break)"
   ]
  },
  {
   "cell_type": "markdown",
   "metadata": {},
   "source": [
    "## 2. 按行读取器"
   ]
  },
  {
   "cell_type": "code",
   "execution_count": null,
   "metadata": {},
   "outputs": [],
   "source": [
    "# Block 2.1\n",
    "\n",
    "from typing import Generator\n",
    "\n",
    "\n",
    "def read(path: str) -> Generator[str, None, str]:\n",
    "    with open(path, 'r') as file:\n",
    "        for line in file:\n",
    "            yield line.strip()\n",
    "            \n",
    "    return '读取结束'\n",
    "\n",
    "\n",
    "reader: Generator[str, None, str] = read('../example.txt')\n",
    "input('按\"Enter\"以继续')\n",
    "\n",
    "while True:\n",
    "    try:\n",
    "        print(next(reader))\n",
    "        input('按\"Enter\"以继续')\n",
    "    except StopIteration as e:\n",
    "        print('停止读取：', e.value)\n",
    "        break"
   ]
  },
  {
   "cell_type": "markdown",
   "metadata": {},
   "source": [
    "## 3. 累加器"
   ]
  },
  {
   "cell_type": "code",
   "execution_count": null,
   "metadata": {},
   "outputs": [],
   "source": [
    "# Block 3.1\n",
    "\n",
    "from typing import Generator\n",
    "\n",
    "\n",
    "def cumulative_sum() -> Generator[float, float, None]:\n",
    "    total: float = 0\n",
    "    while True:\n",
    "        total += yield total\n",
    "        \n",
    "cumu: Generator[float, float, None] = cumulative_sum()\n",
    "next(cumu)\n",
    "\n",
    "while True:\n",
    "    value: float = float(input(\"输入一个值\"))\n",
    "    current_sum: float = cumu.send(value)\n",
    "    print(f'现在的累加值为{current_sum}')"
   ]
  }
 ],
 "metadata": {
  "kernelspec": {
   "display_name": "pypro",
   "language": "python",
   "name": "python3"
  },
  "language_info": {
   "codemirror_mode": {
    "name": "ipython",
    "version": 3
   },
   "file_extension": ".py",
   "mimetype": "text/x-python",
   "name": "python",
   "nbconvert_exporter": "python",
   "pygments_lexer": "ipython3",
   "version": "3.12.4"
  }
 },
 "nbformat": 4,
 "nbformat_minor": 2
}
