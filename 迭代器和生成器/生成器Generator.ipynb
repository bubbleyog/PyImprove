{
 "cells": [
  {
   "cell_type": "markdown",
   "metadata": {},
   "source": [
    "# 生成器 Generator\n",
    "\n",
    "## 1. 从`range()`看生成\n",
    "\n",
    "### range()\n",
    "\n",
    "for循环的`range()`在不同的Python版本中的具体实现不同;\n",
    "\n",
    "- Python2：返回一个指定长度的list；\n",
    "- Python3：返回一个`range`类。(代码1.1)\n",
    "\n",
    "### 生成的优点\n",
    "\n",
    "在Python2中，不论多长的序列都会生成一个列表，如果这个序列很长，就会导致爆内存。\n",
    "\n",
    "如果要使这个过程不那么耗内存，可以使用迭代器，在类本身只返回一个可迭代的对象，然后在迭代器中返回元素。\n",
    "\n",
    "这样每次只生成一个返回值，也就大量节省了内存。"
   ]
  },
  {
   "cell_type": "code",
   "execution_count": null,
   "metadata": {},
   "outputs": [],
   "source": [
    "# Block 1.1\n",
    "\n",
    "x = range(3)\n",
    "print(x)\n",
    "print(type(x))"
   ]
  },
  {
   "cell_type": "code",
   "execution_count": null,
   "metadata": {},
   "outputs": [],
   "source": [
    "# Block 1.2\n",
    "\n",
    "class myrange:\n",
    "    def __init__(self, n):\n",
    "        self.n = n  # 序列的长度\n",
    "        \n",
    "    def __iter__(self):\n",
    "        return MyRangeIter(self.n)\n",
    "    \n",
    "    \n",
    "class MyRangeIter:\n",
    "    def __init__(self, n):\n",
    "        self.n = n\n",
    "        self.curreant = 0  # 当前应该返回的数字\n",
    "        \n",
    "    def __next__(self):\n",
    "        if self.current >= self.n:\n",
    "            raise StopIteration\n",
    "        result = self.curreant\n",
    "        self.current += 1\n",
    "        return result\n",
    "    \n",
    "    \n",
    "    for i in range(3):\n",
    "        print(i)"
   ]
  },
  {
   "cell_type": "markdown",
   "metadata": {},
   "source": [
    "## 2. 编写Generator\n",
    "\n",
    "### yield 实现\n",
    "\n",
    "在代码块2.1中，`i < n`的条件下，yield关键字用于生成一个值`i`。然后，`i`进行自加1操作。\n",
    "\n",
    "### yiled 原理\n",
    "\n",
    "yield关键字可以形成一个生成器Generator。生成器用于返回一个值序列，调用生成器时，它返回一个生成器对象，用于迭代和生成值。\n",
    "\n",
    "yield关键字不直接返回值。\n",
    "\n",
    "调用`__iter__()`时，每当遇到yield，它使用生成器函数生成值`i`，然后将执行挂起。当调用`__next__()`时，yield就会返回这个值，然后继续执行下面的代码，直到再次调用`__next__()`。\n",
    "\n",
    "如果调用`__next__()`时`i >= n`，即不再执行yield语句，则抛出一个StopIteration并结束执行。\n",
    "\n",
    "如代码块2.2，yield在调用对象的`__next__()`方法时执行。\n"
   ]
  },
  {
   "cell_type": "code",
   "execution_count": null,
   "metadata": {},
   "outputs": [],
   "source": [
    "# Block 2.1\n",
    "\n",
    "def myrange(n):\n",
    "    i = 0\n",
    "    while i < n:\n",
    "        yield i\n",
    "        i += 1\n",
    "\n",
    " \n",
    "x = myrange(3)\n",
    "print(type(x))\n",
    "     \n",
    "for i in x:\n",
    "    print(i)\n"
   ]
  },
  {
   "cell_type": "code",
   "execution_count": null,
   "metadata": {},
   "outputs": [],
   "source": [
    "# Block 2.2\n",
    "\n",
    "def myrange(n):\n",
    "    print(\"point 1\")\n",
    "    i = 0\n",
    "    while i < n:\n",
    "        print(\"point 2\")\n",
    "        yield i\n",
    "        print(\"point 3\")\n",
    "        i += 1\n",
    "\n",
    "print(\"创建对象\")\n",
    "x = myrange(3)\n",
    "print(\"调用iter\")\n",
    "iterx = x.__iter__()\n",
    "print(\"调用next\")\n",
    "print(iterx.__next__())\n"
   ]
  },
  {
   "cell_type": "markdown",
   "metadata": {},
   "source": [
    "## 3. 生成器的一些方法\n",
    "\n",
    "### 3.1 send方法\n",
    "\n",
    "`send()`方法：将一个消息发送给使用yield语句，用它代替当前的返回值。（代码块3.1）\n",
    "\n",
    "使用`.send()`可以使生成器执行一次。"
   ]
  },
  {
   "cell_type": "code",
   "execution_count": null,
   "metadata": {},
   "outputs": [],
   "source": [
    "# Block 3.1\n",
    "\n",
    "def myrange(n):\n",
    "    print(\"point 1\")\n",
    "    i = 0\n",
    "    while i < n:\n",
    "        print(\"point 2\")\n",
    "        yield i\n",
    "        print(\"point 3\")\n",
    "        i += 1\n",
    "\n",
    "\n",
    "x = myrange(3)\n",
    "iterx = x.__iter__()\n",
    "print(iterx.__next__())\n",
    "print(x.send(\"A Message\"))"
   ]
  }
 ],
 "metadata": {
  "kernelspec": {
   "display_name": "pypro",
   "language": "python",
   "name": "python3"
  },
  "language_info": {
   "codemirror_mode": {
    "name": "ipython",
    "version": 3
   },
   "file_extension": ".py",
   "mimetype": "text/x-python",
   "name": "python",
   "nbconvert_exporter": "python",
   "pygments_lexer": "ipython3",
   "version": "3.12.4"
  }
 },
 "nbformat": 4,
 "nbformat_minor": 2
}
