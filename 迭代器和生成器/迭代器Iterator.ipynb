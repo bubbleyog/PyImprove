{
 "cells": [
  {
   "cell_type": "markdown",
   "metadata": {},
   "source": [
    "# 迭代器Iterator\n",
    "\n",
    "可迭代对象：可以使用for过程遍历的对象\n",
    "\n",
    "## 1 列表\n",
    "\n",
    "列表`list`对象是可迭代对象，可以使用下标获取元素。\n",
    "\n",
    "下标的调用方式实际上是Python的一个语法糖，它相当于：`lst.__getitem__(item)`，`item`为对应的索引。（代码块1.1）\n",
    "\n",
    "原理的实例如代码块1.2。"
   ]
  },
  {
   "cell_type": "code",
   "execution_count": null,
   "metadata": {},
   "outputs": [],
   "source": [
    "# Block 1.1\n",
    "\n",
    "lst: list[int] = [1, 2, 3, 4]\n",
    "\n",
    "print(lst[1])\n",
    "print(lst.__getitem__(1))"
   ]
  },
  {
   "cell_type": "code",
   "execution_count": null,
   "metadata": {},
   "outputs": [],
   "source": [
    "# Block 1.2\n",
    "# 原理演示\n",
    "\n",
    "class MyList:\n",
    "    def __init__(self, lst) -> None:\n",
    "        self.lst = lst\n",
    "        \n",
    "    def __getitem__(self, index):\n",
    "        if index >= len(self.lst):\n",
    "            raise IndexError(\"Index out of range, please check\")\n",
    "        return self.lst[index]\n",
    "    \n",
    "    \n",
    "my_list = MyList([2, 3, 4])\n",
    "for item in my_list:\n",
    "    print(item)\n",
    "    \n",
    "print(my_list[3])  # 抛出IndexError"
   ]
  },
  {
   "cell_type": "markdown",
   "metadata": {},
   "source": [
    "# 2. 不带`__getitem__`方法的类型\n",
    "\n",
    "包括：字典、文件按行读取等。\n",
    "\n",
    "解决：使用`__iter__`方法\n",
    "\n",
    "`__iter__()`用于解决迭代器问题，返回值为一个`iterator`。原理如下：\n",
    "\n",
    "```python\n",
    "my_list = MyListIterable([2, 3, 4])\n",
    "it = my_list.__iter__()  # 调用方法，获得一个iterator\n",
    "try:\n",
    "    while True:\n",
    "        i = it.__next__()  # 通过iterator对象获取下一个值\n",
    "        print(i)\n",
    "except StopIteration:  # 如果没有值了，抛出异常\n",
    "    pass\n",
    "```\n",
    "\n",
    "一个最简单的实现如代码块2.1"
   ]
  },
  {
   "cell_type": "code",
   "execution_count": 2,
   "metadata": {},
   "outputs": [
    {
     "name": "stdout",
     "output_type": "stream",
     "text": [
      "2\n",
      "3\n",
      "4\n",
      "5\n"
     ]
    }
   ],
   "source": [
    "# Block 2.1 \n",
    "# 编写一个可迭代的类\n",
    "class MyListIterable:\n",
    "    def __init__(self, mlst: list):\n",
    "        self.mlst = mlst\n",
    "        self.index = 0\n",
    "        \n",
    "    def __next__(self):\n",
    "        if self.index >= len(self.mlst):\n",
    "            raise StopIteration\n",
    "        ret = self.mlst[self.index]\n",
    "        self.index += 1\n",
    "        return ret\n",
    "    \n",
    "    def __iter__(self):\n",
    "        return self\n",
    "    \n",
    "my_list = MyListIterable([2, 3, 4, 5])\n",
    "for item in my_list:\n",
    "    print(item)\n"
   ]
  },
  {
   "cell_type": "markdown",
   "metadata": {},
   "source": [
    "# 3. 遗留问题\n",
    "\n",
    "假如不在`MyListIterable`中定义`__iter__`，而直接使用`__iter__`获得一个iterator对象，这时是不能直接用for循环的，如代码块3.1\n",
    "\n",
    "因此需要为iterator再编写一个`__iter__`，使之可以被迭代，如代码块3.2"
   ]
  },
  {
   "cell_type": "code",
   "execution_count": 3,
   "metadata": {},
   "outputs": [
    {
     "ename": "AttributeError",
     "evalue": "'MyListIterable' object has no attribute '__iter__'",
     "output_type": "error",
     "traceback": [
      "\u001b[0;31m---------------------------------------------------------------------------\u001b[0m",
      "\u001b[0;31mAttributeError\u001b[0m                            Traceback (most recent call last)",
      "Cell \u001b[0;32mIn[3], line 17\u001b[0m\n\u001b[1;32m     13\u001b[0m         \u001b[38;5;28;01mreturn\u001b[39;00m ret\n\u001b[1;32m     16\u001b[0m my_list \u001b[38;5;241m=\u001b[39m MyListIterable([\u001b[38;5;241m2\u001b[39m, \u001b[38;5;241m3\u001b[39m, \u001b[38;5;241m4\u001b[39m, \u001b[38;5;241m5\u001b[39m])\n\u001b[0;32m---> 17\u001b[0m it \u001b[38;5;241m=\u001b[39m my_list\u001b[38;5;241m.\u001b[39m\u001b[38;5;21m__iter__\u001b[39m()\n\u001b[1;32m     18\u001b[0m \u001b[38;5;28;01mfor\u001b[39;00m item \u001b[38;5;129;01min\u001b[39;00m it:\n\u001b[1;32m     19\u001b[0m     \u001b[38;5;28mprint\u001b[39m(item)\n",
      "\u001b[0;31mAttributeError\u001b[0m: 'MyListIterable' object has no attribute '__iter__'"
     ]
    }
   ],
   "source": [
    "# Block 3.1\n",
    "\n",
    "class MyListIterable:\n",
    "    def __init__(self, mlst: list):\n",
    "        self.mlst = mlst\n",
    "        self.index = 0\n",
    "        \n",
    "    def __next__(self):\n",
    "        if self.index >= len(self.mlst):\n",
    "            raise StopIteration\n",
    "        ret = self.mlst[self.index]\n",
    "        self.index += 1\n",
    "        return ret\n",
    "    \n",
    "    \n",
    "my_list = MyListIterable([2, 3, 4, 5])\n",
    "it = my_list.__iter__()\n",
    "for item in it:\n",
    "    print(item)  # 报错"
   ]
  },
  {
   "cell_type": "code",
   "execution_count": 5,
   "metadata": {},
   "outputs": [
    {
     "name": "stdout",
     "output_type": "stream",
     "text": [
      "2\n",
      "3\n",
      "4\n",
      "5\n"
     ]
    }
   ],
   "source": [
    "# Block 3.2\n",
    "\n",
    "class MyListIterable:\n",
    "    def __init__(self, mlst: list):\n",
    "        self.mlst = mlst\n",
    "        self.index = 0\n",
    "        \n",
    "    def __next__(self):\n",
    "        if self.index >= len(self.mlst):\n",
    "            raise StopIteration\n",
    "        ret = self.mlst[self.index]\n",
    "        self.index += 1\n",
    "        return ret\n",
    "    \n",
    "    def __iter__(self):\n",
    "        return self\n",
    "    \n",
    "    \n",
    "my_list = MyListIterable([2, 3, 4, 5])\n",
    "it = my_list.__iter__()\n",
    "for item in it:\n",
    "    print(item)  # 报错"
   ]
  }
 ],
 "metadata": {
  "kernelspec": {
   "display_name": "pypro",
   "language": "python",
   "name": "python3"
  },
  "language_info": {
   "codemirror_mode": {
    "name": "ipython",
    "version": 3
   },
   "file_extension": ".py",
   "mimetype": "text/x-python",
   "name": "python",
   "nbconvert_exporter": "python",
   "pygments_lexer": "ipython3",
   "version": "3.12.4"
  }
 },
 "nbformat": 4,
 "nbformat_minor": 2
}
